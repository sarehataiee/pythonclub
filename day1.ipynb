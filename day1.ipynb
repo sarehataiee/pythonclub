{
 "cells": [
  {
   "cell_type": "markdown",
   "id": "01d4fc3f",
   "metadata": {},
   "source": [
    "# Lets code!"
   ]
  },
  {
   "cell_type": "markdown",
   "id": "47a969b4",
   "metadata": {},
   "source": [
    "1) Click on the below cell\n",
    "\n",
    "2) Press the run botton (the black triangle in the bar above) or press shift and Enter keys together\n",
    "\n",
    "3) What happened?"
   ]
  },
  {
   "cell_type": "code",
   "execution_count": null,
   "id": "d71f6d3c",
   "metadata": {},
   "outputs": [],
   "source": [
    "print(\"Hello World!\")    # Ah nooooo... hello world again "
   ]
  },
  {
   "cell_type": "code",
   "execution_count": null,
   "id": "c5d73be3",
   "metadata": {},
   "outputs": [],
   "source": [
    "# What if you run this cell?"
   ]
  },
  {
   "cell_type": "code",
   "execution_count": null,
   "id": "ed735f1b",
   "metadata": {},
   "outputs": [],
   "source": [
    "# And also this cell\n",
    "# That has multiple lines with a # at the beginning?\n",
    "# Hatta mitunin be finglish benevisid "
   ]
  },
  {
   "cell_type": "code",
   "execution_count": null,
   "id": "c37f3687",
   "metadata": {},
   "outputs": [],
   "source": [
    "'''\n",
    "You can make a block of comments like this\n",
    "and make multiple likes in it\n",
    "without any # at the beginning of the lines ;-)\n",
    "'''"
   ]
  },
  {
   "cell_type": "markdown",
   "id": "486d2683",
   "metadata": {},
   "source": [
    "Now it is your turn to print your favorite sentence. Try to write some comments too :-)"
   ]
  },
  {
   "cell_type": "code",
   "execution_count": null,
   "id": "738a59aa",
   "metadata": {},
   "outputs": [],
   "source": []
  },
  {
   "cell_type": "markdown",
   "id": "1e4f6957",
   "metadata": {},
   "source": [
    "You can have multiple commands in a cell, yayyyyyyyy! Run it and see what happens!"
   ]
  },
  {
   "cell_type": "code",
   "execution_count": null,
   "id": "f1a10cec",
   "metadata": {},
   "outputs": [],
   "source": [
    "print('Enter your name:')\n",
    "x = input()\n",
    "print('Hello, ' + x) "
   ]
  },
  {
   "cell_type": "markdown",
   "id": "c2a48b30",
   "metadata": {},
   "source": [
    "Python is lovely but can be annoying at the same time if you forget **indentation**.\n",
    "\n",
    "Run the two below cells to see what identation is ;-)"
   ]
  },
  {
   "cell_type": "code",
   "execution_count": null,
   "id": "b092e902",
   "metadata": {},
   "outputs": [],
   "source": [
    "if 5 > 2:\n",
    "print(\"Evil is in the indentation!\")"
   ]
  },
  {
   "cell_type": "code",
   "execution_count": null,
   "id": "dfa3e8e6",
   "metadata": {},
   "outputs": [],
   "source": [
    "if 5 > 2:\n",
    "    print(\"Evil is in the indentation!\")"
   ]
  },
  {
   "cell_type": "markdown",
   "id": "0708ed55",
   "metadata": {},
   "source": [
    "# Variables"
   ]
  },
  {
   "cell_type": "markdown",
   "id": "b5a7a776",
   "metadata": {},
   "source": [
    "*Variable* is a value that can be changed, depending on conditions or on information passed to the program.\n",
    "It can be a name, a number (integer or float), a list, anything that is defined for python."
   ]
  },
  {
   "cell_type": "markdown",
   "id": "d2e131bc",
   "metadata": {},
   "source": [
    "In python, a variable is created the moment you first assign a value to it."
   ]
  },
  {
   "cell_type": "code",
   "execution_count": null,
   "id": "6a0ca1d6",
   "metadata": {},
   "outputs": [],
   "source": [
    "x = 4       # x is of type int\n",
    "print(x)\n",
    "x = \"Sareh\" # x is now of type str\n",
    "print(x)"
   ]
  },
  {
   "cell_type": "markdown",
   "id": "5cece898",
   "metadata": {},
   "source": [
    "Or you can write in a fancier way:"
   ]
  },
  {
   "cell_type": "code",
   "execution_count": null,
   "id": "4d52d288",
   "metadata": {},
   "outputs": [],
   "source": [
    "print(\"x is \", x)"
   ]
  },
  {
   "cell_type": "markdown",
   "id": "f6bea5ed",
   "metadata": {},
   "source": [
    "If you want to specify a variable, you can definitely do that:"
   ]
  },
  {
   "cell_type": "code",
   "execution_count": null,
   "id": "80c7b6ab",
   "metadata": {},
   "outputs": [],
   "source": [
    "x = str(3)    # x will be '3' that is a string\n",
    "y = int(3)    # y will be 3 that is an integer \n",
    "z = float(3)  # z will be 3.0 that is a floar (real number)"
   ]
  },
  {
   "cell_type": "markdown",
   "id": "6a7c6a1d",
   "metadata": {},
   "source": [
    "You can also get what type a variable is:"
   ]
  },
  {
   "cell_type": "code",
   "execution_count": null,
   "id": "e0403390",
   "metadata": {},
   "outputs": [],
   "source": [
    "print(type(x))\n",
    "print(type(y)) \n",
    "print(type(z)) "
   ]
  },
  {
   "cell_type": "markdown",
   "id": "5a3c31cf",
   "metadata": {},
   "source": [
    "Try below cell now! What do you get?"
   ]
  },
  {
   "cell_type": "code",
   "execution_count": null,
   "id": "3e96fd03",
   "metadata": {},
   "outputs": [],
   "source": [
    "x, y, z = \"Orange\", 3, 4+2j\n",
    "print(x, type(x))\n",
    "print(y, type(y))\n",
    "print(z, type(z))"
   ]
  },
  {
   "cell_type": "markdown",
   "id": "123a7a61",
   "metadata": {},
   "source": [
    "**Note**:\n",
    "   - 'Sareh' and \"Sareh\" are both the same string. No difference in the usage of ' and \"!\n",
    "   - python understands the difference between X and x. Variables are case-sensitive!"
   ]
  },
  {
   "cell_type": "code",
   "execution_count": null,
   "id": "9e6ea1de",
   "metadata": {},
   "outputs": [],
   "source": [
    "a = 4\n",
    "A = \"Sareh\"\n",
    "print(A, \"is not\", a)"
   ]
  },
  {
   "attachments": {
    "keywords.png": {
     "image/png": "[encoded data removed]"
    }
   },
   "cell_type": "markdown",
   "id": "83a03de3",
   "metadata": {},
   "source": [
    "You never have ultimate freedom! There are **rules** for the name of the variables:\n",
    "  - A variable name must start with a letter or the underscore character (_)\n",
    "  - A variable name **cannot** start with a number\n",
    "  - A variable name can **only** contain alpha-numeric characters and underscores (A-z, 0-9, and _ )\n",
    "\n",
    "And you **never ever** should use below names for the variables:\n",
    "![keywords.png](attachment:keywords.png)"
   ]
  },
  {
   "cell_type": "markdown",
   "id": "105150bd",
   "metadata": {},
   "source": [
    "Now try below cells and see what you get!"
   ]
  },
  {
   "cell_type": "code",
   "execution_count": null,
   "id": "422dbd4f",
   "metadata": {},
   "outputs": [],
   "source": [
    "x = 5\n",
    "y = \"Sareh\""
   ]
  },
  {
   "cell_type": "code",
   "execution_count": null,
   "id": "43362479",
   "metadata": {},
   "outputs": [],
   "source": [
    "print(x, y)"
   ]
  },
  {
   "cell_type": "code",
   "execution_count": null,
   "id": "51979a63",
   "metadata": {},
   "outputs": [],
   "source": [
    "print(x+y)"
   ]
  },
  {
   "cell_type": "code",
   "execution_count": null,
   "id": "3de54f55",
   "metadata": {},
   "outputs": [],
   "source": [
    "print(srt(x)+y)"
   ]
  },
  {
   "cell_type": "code",
   "execution_count": null,
   "id": "0fb3849a",
   "metadata": {},
   "outputs": [],
   "source": [
    "print(x \"is not the same type as\" y)"
   ]
  },
  {
   "cell_type": "code",
   "execution_count": null,
   "id": "c6351b08",
   "metadata": {},
   "outputs": [],
   "source": [
    "print(x, \"is not the same type as\", y)"
   ]
  },
  {
   "cell_type": "code",
   "execution_count": null,
   "id": "a6f92882",
   "metadata": {},
   "outputs": [],
   "source": [
    "print(str(x)+ \" is not the same type as \"+ y)"
   ]
  },
  {
   "cell_type": "markdown",
   "id": "997f02d0",
   "metadata": {},
   "source": [
    "# List, Set, Tuple, Dictionary\n",
    "These are used to store multiple items in a single variable. But they have differences:\n",
    "  - List:\n",
    "      - Lists are created using square brackets []\n",
    "      - List items are ordered, changeable, and allow duplicate values\n",
    "  - Set:\n",
    "      - Sets are written with curly brackets {}\n",
    "      - Set items are unordered, unchangeable\n",
    "  - Tuple:\n",
    "      - Tuples are created with round brackets ()\n",
    "      - Tuple items are ordered and unchangeable, and allow duplicate values\n",
    "  - Dictionary:\n",
    "      - Dictionaries are created also with curly brackets {} but have keys and values\n",
    "      - Dictionary items are changeable and duplicates does not mean much for them\n",
    "\n",
    "**Let's try!**\n",
    "      "
   ]
  },
  {
   "cell_type": "code",
   "execution_count": null,
   "id": "7676853c",
   "metadata": {},
   "outputs": [],
   "source": [
    "# Let's create a list \n",
    "thislist = [\"apple\", \"banana\", \"cherry\", \"apple\", \"cherry\", 4, ['Soosi', 10]]\n",
    "print(thislist)\n",
    "print(\"---------------------\")"
   ]
  },
  {
   "cell_type": "code",
   "execution_count": null,
   "id": "65d918bb",
   "metadata": {},
   "outputs": [],
   "source": [
    "# Now see what ordered means\n",
    "print(thislist[0], thislist[4])\n",
    "print(\"---------------------\")"
   ]
  },
  {
   "cell_type": "code",
   "execution_count": null,
   "id": "1acf87b8",
   "metadata": {},
   "outputs": [],
   "source": [
    "# Duplicate values are allowed\n",
    "print(thislist[0], thislist[3])\n",
    "print(\"---------------------\")"
   ]
  },
  {
   "cell_type": "code",
   "execution_count": null,
   "id": "383cc1ee",
   "metadata": {},
   "outputs": [],
   "source": [
    "# We can have a list inside a list\n",
    "print(thislist[6])\n",
    "print(\"---------------------\")"
   ]
  },
  {
   "cell_type": "code",
   "execution_count": null,
   "id": "0a9e714f",
   "metadata": {},
   "outputs": [],
   "source": [
    "# The list items are changable\n",
    "print(thislist[3])\n",
    "thislist[3] = [2,3]\n",
    "print(thislist[3])"
   ]
  },
  {
   "cell_type": "code",
   "execution_count": null,
   "id": "27956348",
   "metadata": {},
   "outputs": [],
   "source": [
    "# Let's try the type() command\n",
    "print(type(thislist), type(thislist[3]), type(thislist[0]), type(thislist[0][1])) # What the hell is the last item?!! o_O"
   ]
  },
  {
   "cell_type": "code",
   "execution_count": null,
   "id": "d61e95c9",
   "metadata": {},
   "outputs": [],
   "source": [
    "# Now let's see how to create a set\n",
    "thisset = {\"apple\", \"banana\", \"cherry\", 4, 10}\n",
    "print(thisset) \n",
    "print(type(thisset))"
   ]
  },
  {
   "cell_type": "code",
   "execution_count": null,
   "id": "5602d0cc",
   "metadata": {},
   "outputs": [],
   "source": [
    "print(thisset[0]) # Yes! That is what unordered means! "
   ]
  },
  {
   "cell_type": "code",
   "execution_count": null,
   "id": "4da40d7e",
   "metadata": {},
   "outputs": [],
   "source": [
    "thisset[0] = 4 # and of course not changable!"
   ]
  },
  {
   "cell_type": "code",
   "execution_count": null,
   "id": "9d94cf52",
   "metadata": {},
   "outputs": [],
   "source": [
    "# but you can check if an item exists in a set\n",
    "'apple' in thisset"
   ]
  },
  {
   "cell_type": "code",
   "execution_count": null,
   "id": "bb73b7bd",
   "metadata": {},
   "outputs": [],
   "source": [
    "# Now we create a tuple, very similar to lists but unchangable\n",
    "thistuple = (\"apple\", \"banana\", \"cherry\", 4, 2, 2, (\"apple\", 10))\n",
    "print(thistuple)\n",
    "print(type(thistuple))"
   ]
  },
  {
   "cell_type": "code",
   "execution_count": null,
   "id": "f457647f",
   "metadata": {},
   "outputs": [],
   "source": [
    "# Try to change the 4th item in the tuple to 'haha...'\n",
    "# Type below: thisset[4] = 'haha...' and explain what happens!\n"
   ]
  },
  {
   "cell_type": "code",
   "execution_count": null,
   "id": "523f0fde",
   "metadata": {},
   "outputs": [],
   "source": [
    "# And finally, we create a dictionary\n",
    "thisdict = {\"name\":\"Sareh\", \"hobby\":\"astronmy\", \"birth year\":3081}\n",
    "print(thisdict)\n",
    "print(type(thisdict))"
   ]
  },
  {
   "cell_type": "code",
   "execution_count": null,
   "id": "a8bc3bd9",
   "metadata": {},
   "outputs": [],
   "source": [
    "# Duplicate does not mean in dictionaries\n",
    "thisdict = {\"name\":\"Sareh\", \"hobby\":\"astronmy\", \"birth year\":3081, \"name\":\"Tanja\"}\n",
    "print(thisdict)"
   ]
  },
  {
   "cell_type": "code",
   "execution_count": null,
   "id": "a786ee5d",
   "metadata": {},
   "outputs": [],
   "source": [
    "print(thisdict[\"name\"]) # This is how we access an item in a dictinary: by a key and not an index\n",
    "print(thisdict[0])  # It gives error! Why?"
   ]
  },
  {
   "cell_type": "code",
   "execution_count": null,
   "id": "28cb6b56",
   "metadata": {},
   "outputs": [],
   "source": [
    "# but you can change a value\n",
    "thisdict[\"birth year\"] = 2010\n",
    "print(thisdict)"
   ]
  },
  {
   "cell_type": "code",
   "execution_count": null,
   "id": "2f5ddc84",
   "metadata": {},
   "outputs": [],
   "source": []
  }
 ],
 "metadata": {
  "kernelspec": {
   "display_name": "Python 3 (ipykernel)",
   "language": "python",
   "name": "python3"
  },
  "language_info": {
   "codemirror_mode": {
    "name": "ipython",
    "version": 3
   },
   "file_extension": ".py",
   "mimetype": "text/x-python",
   "name": "python",
   "nbconvert_exporter": "python",
   "pygments_lexer": "ipython3",
   "version": "3.8.10"
  }
 },
 "nbformat": 4,
 "nbformat_minor": 5
}
