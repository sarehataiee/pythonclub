{
 "cells": [
  {
   "cell_type": "markdown",
   "id": "47a969b4",
   "metadata": {},
   "source": [
    "1) Click on the below cell\n",
    "\n",
    "2) Press the run botton (the black triangle in the bar above) or press shift and Enter keys together\n",
    "\n",
    "3) What happened?"
   ]
  },
  {
   "cell_type": "code",
   "execution_count": 1,
   "id": "d71f6d3c",
   "metadata": {},
   "outputs": [
    {
     "name": "stdout",
     "output_type": "stream",
     "text": [
      "Hello World!\n"
     ]
    }
   ],
   "source": [
    "print(\"Hello World!\")    # Ah nooooo... hello world again "
   ]
  },
  {
   "cell_type": "markdown",
   "id": "486d2683",
   "metadata": {},
   "source": [
    "Now it is your turn to print your favorite sentence."
   ]
  },
  {
   "cell_type": "code",
   "execution_count": null,
   "id": "738a59aa",
   "metadata": {},
   "outputs": [],
   "source": []
  },
  {
   "cell_type": "markdown",
   "id": "1e4f6957",
   "metadata": {},
   "source": [
    "You can multiple lines in a cell, yayyyyyyyy! Run it and see what happens!"
   ]
  },
  {
   "cell_type": "code",
   "execution_count": 2,
   "id": "f1a10cec",
   "metadata": {},
   "outputs": [
    {
     "name": "stdout",
     "output_type": "stream",
     "text": [
      "Enter your name:\n",
      "Sareh\n",
      "Hello, Sareh\n"
     ]
    }
   ],
   "source": [
    "print('Enter your name:')\n",
    "x = input()\n",
    "print('Hello, ' + x) "
   ]
  },
  {
   "cell_type": "markdown",
   "id": "c2a48b30",
   "metadata": {},
   "source": [
    "Python is lovely but can be annoying at the same time if you forget *indentation*.\n",
    "\n",
    "Run the two below cells to see what identation is ;-)"
   ]
  },
  {
   "cell_type": "code",
   "execution_count": 3,
   "id": "b092e902",
   "metadata": {},
   "outputs": [
    {
     "ename": "IndentationError",
     "evalue": "expected an indented block (2989727416.py, line 2)",
     "output_type": "error",
     "traceback": [
      "\u001b[0;36m  File \u001b[0;32m\"/tmp/ipykernel_2352845/2989727416.py\"\u001b[0;36m, line \u001b[0;32m2\u001b[0m\n\u001b[0;31m    print(\"Evil is in the indentation!\")\u001b[0m\n\u001b[0m    ^\u001b[0m\n\u001b[0;31mIndentationError\u001b[0m\u001b[0;31m:\u001b[0m expected an indented block\n"
     ]
    }
   ],
   "source": [
    "if 5 > 2:\n",
    "print(\"Evil is in the indentation!\")"
   ]
  },
  {
   "cell_type": "code",
   "execution_count": 4,
   "id": "dfa3e8e6",
   "metadata": {},
   "outputs": [
    {
     "name": "stdout",
     "output_type": "stream",
     "text": [
      "Evil is in the indentation!\n"
     ]
    }
   ],
   "source": [
    "if 5 > 2:\n",
    "    print(\"Evil is in the indentation!\")"
   ]
  },
  {
   "cell_type": "markdown",
   "id": "0708ed55",
   "metadata": {},
   "source": [
    "### data types: list, set, tuple\n",
    "### **INDENTATION**"
   ]
  },
  {
   "cell_type": "markdown",
   "id": "4605a61b",
   "metadata": {},
   "source": []
  }
 ],
 "metadata": {
  "kernelspec": {
   "display_name": "Python 3 (ipykernel)",
   "language": "python",
   "name": "python3"
  },
  "language_info": {
   "codemirror_mode": {
    "name": "ipython",
    "version": 3
   },
   "file_extension": ".py",
   "mimetype": "text/x-python",
   "name": "python",
   "nbconvert_exporter": "python",
   "pygments_lexer": "ipython3",
   "version": "3.8.10"
  }
 },
 "nbformat": 4,
 "nbformat_minor": 5
}
